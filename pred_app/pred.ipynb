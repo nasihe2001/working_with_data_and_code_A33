{
 "cells": [
  {
   "cell_type": "markdown",
   "source": [
    "## Model fitting"
   ],
   "metadata": {
    "collapsed": false
   }
  },
  {
   "cell_type": "code",
   "execution_count": 26,
   "outputs": [],
   "source": [
    "# Importing necessary packages\n",
    "from sklearn.svm import SVR\n",
    "from sklearn.model_selection import train_test_split\n",
    "from sklearn.metrics import r2_score\n",
    "from sklearn.linear_model import LinearRegression\n",
    "import pandas as pd\n",
    "import joblib"
   ],
   "metadata": {
    "collapsed": false
   }
  },
  {
   "cell_type": "markdown",
   "source": [
    "\n",
    "### Data preprocessing"
   ],
   "metadata": {
    "collapsed": false
   }
  },
  {
   "cell_type": "code",
   "execution_count": 31,
   "outputs": [
    {
     "data": {
      "text/plain": "       transaction_id transaction_date transaction_time  sales_outlet_id  \\\n0                   7       2019-04-01         12:04:43                3   \n1                  11       2019-04-01         15:54:39                3   \n2                  19       2019-04-01         14:34:59                3   \n3                  32       2019-04-01         16:06:04                3   \n4                  33       2019-04-01         19:18:37                3   \n...               ...              ...              ...              ...   \n49889             753       2019-04-29         16:51:58                8   \n49890             756       2019-04-29         16:51:14                8   \n49891             759       2019-04-29         11:17:36                8   \n49892             763       2019-04-29         15:45:52                8   \n49893             763       2019-04-29         15:45:52                8   \n\n       staff_id  customer_id instore_yn  order  line_item_id  product_id  \\\n0            12          558          N      1             1          52   \n1            17          781          N      1             1          27   \n2            17          788          Y      1             1          46   \n3            12          683          N      1             1          23   \n4            17           99          Y      1             1          34   \n...         ...          ...        ...    ...           ...         ...   \n49889        42            0          N      1             1          30   \n49890        42         8412          Y      1             1          25   \n49891        15            0          Y      1             1          31   \n49892        45         8030          N      1             1          44   \n49893        45         8030          N      1             5          75   \n\n       quantity  line_item_amount  unit_price promo_item_yn  \n0             1              2.50        2.50             N  \n1             2              7.00        3.50             N  \n2             2              5.00        2.50             N  \n3             2              5.00        2.50             N  \n4             1              2.45        2.45             N  \n...         ...               ...         ...           ...  \n49889         1              3.00        3.00             N  \n49890         2              4.40        2.20             N  \n49891         1              2.20        2.20             N  \n49892         2              5.00        2.50             N  \n49893         1              3.50        3.50             N  \n\n[49894 rows x 14 columns]",
      "text/html": "<div>\n<style scoped>\n    .dataframe tbody tr th:only-of-type {\n        vertical-align: middle;\n    }\n\n    .dataframe tbody tr th {\n        vertical-align: top;\n    }\n\n    .dataframe thead th {\n        text-align: right;\n    }\n</style>\n<table border=\"1\" class=\"dataframe\">\n  <thead>\n    <tr style=\"text-align: right;\">\n      <th></th>\n      <th>transaction_id</th>\n      <th>transaction_date</th>\n      <th>transaction_time</th>\n      <th>sales_outlet_id</th>\n      <th>staff_id</th>\n      <th>customer_id</th>\n      <th>instore_yn</th>\n      <th>order</th>\n      <th>line_item_id</th>\n      <th>product_id</th>\n      <th>quantity</th>\n      <th>line_item_amount</th>\n      <th>unit_price</th>\n      <th>promo_item_yn</th>\n    </tr>\n  </thead>\n  <tbody>\n    <tr>\n      <th>0</th>\n      <td>7</td>\n      <td>2019-04-01</td>\n      <td>12:04:43</td>\n      <td>3</td>\n      <td>12</td>\n      <td>558</td>\n      <td>N</td>\n      <td>1</td>\n      <td>1</td>\n      <td>52</td>\n      <td>1</td>\n      <td>2.50</td>\n      <td>2.50</td>\n      <td>N</td>\n    </tr>\n    <tr>\n      <th>1</th>\n      <td>11</td>\n      <td>2019-04-01</td>\n      <td>15:54:39</td>\n      <td>3</td>\n      <td>17</td>\n      <td>781</td>\n      <td>N</td>\n      <td>1</td>\n      <td>1</td>\n      <td>27</td>\n      <td>2</td>\n      <td>7.00</td>\n      <td>3.50</td>\n      <td>N</td>\n    </tr>\n    <tr>\n      <th>2</th>\n      <td>19</td>\n      <td>2019-04-01</td>\n      <td>14:34:59</td>\n      <td>3</td>\n      <td>17</td>\n      <td>788</td>\n      <td>Y</td>\n      <td>1</td>\n      <td>1</td>\n      <td>46</td>\n      <td>2</td>\n      <td>5.00</td>\n      <td>2.50</td>\n      <td>N</td>\n    </tr>\n    <tr>\n      <th>3</th>\n      <td>32</td>\n      <td>2019-04-01</td>\n      <td>16:06:04</td>\n      <td>3</td>\n      <td>12</td>\n      <td>683</td>\n      <td>N</td>\n      <td>1</td>\n      <td>1</td>\n      <td>23</td>\n      <td>2</td>\n      <td>5.00</td>\n      <td>2.50</td>\n      <td>N</td>\n    </tr>\n    <tr>\n      <th>4</th>\n      <td>33</td>\n      <td>2019-04-01</td>\n      <td>19:18:37</td>\n      <td>3</td>\n      <td>17</td>\n      <td>99</td>\n      <td>Y</td>\n      <td>1</td>\n      <td>1</td>\n      <td>34</td>\n      <td>1</td>\n      <td>2.45</td>\n      <td>2.45</td>\n      <td>N</td>\n    </tr>\n    <tr>\n      <th>...</th>\n      <td>...</td>\n      <td>...</td>\n      <td>...</td>\n      <td>...</td>\n      <td>...</td>\n      <td>...</td>\n      <td>...</td>\n      <td>...</td>\n      <td>...</td>\n      <td>...</td>\n      <td>...</td>\n      <td>...</td>\n      <td>...</td>\n      <td>...</td>\n    </tr>\n    <tr>\n      <th>49889</th>\n      <td>753</td>\n      <td>2019-04-29</td>\n      <td>16:51:58</td>\n      <td>8</td>\n      <td>42</td>\n      <td>0</td>\n      <td>N</td>\n      <td>1</td>\n      <td>1</td>\n      <td>30</td>\n      <td>1</td>\n      <td>3.00</td>\n      <td>3.00</td>\n      <td>N</td>\n    </tr>\n    <tr>\n      <th>49890</th>\n      <td>756</td>\n      <td>2019-04-29</td>\n      <td>16:51:14</td>\n      <td>8</td>\n      <td>42</td>\n      <td>8412</td>\n      <td>Y</td>\n      <td>1</td>\n      <td>1</td>\n      <td>25</td>\n      <td>2</td>\n      <td>4.40</td>\n      <td>2.20</td>\n      <td>N</td>\n    </tr>\n    <tr>\n      <th>49891</th>\n      <td>759</td>\n      <td>2019-04-29</td>\n      <td>11:17:36</td>\n      <td>8</td>\n      <td>15</td>\n      <td>0</td>\n      <td>Y</td>\n      <td>1</td>\n      <td>1</td>\n      <td>31</td>\n      <td>1</td>\n      <td>2.20</td>\n      <td>2.20</td>\n      <td>N</td>\n    </tr>\n    <tr>\n      <th>49892</th>\n      <td>763</td>\n      <td>2019-04-29</td>\n      <td>15:45:52</td>\n      <td>8</td>\n      <td>45</td>\n      <td>8030</td>\n      <td>N</td>\n      <td>1</td>\n      <td>1</td>\n      <td>44</td>\n      <td>2</td>\n      <td>5.00</td>\n      <td>2.50</td>\n      <td>N</td>\n    </tr>\n    <tr>\n      <th>49893</th>\n      <td>763</td>\n      <td>2019-04-29</td>\n      <td>15:45:52</td>\n      <td>8</td>\n      <td>45</td>\n      <td>8030</td>\n      <td>N</td>\n      <td>1</td>\n      <td>5</td>\n      <td>75</td>\n      <td>1</td>\n      <td>3.50</td>\n      <td>3.50</td>\n      <td>N</td>\n    </tr>\n  </tbody>\n</table>\n<p>49894 rows × 14 columns</p>\n</div>"
     },
     "execution_count": 31,
     "metadata": {},
     "output_type": "execute_result"
    }
   ],
   "source": [
    "\n",
    "# Load datasets\n",
    "sales_data = pd.read_csv('sales.csv')\n",
    "item_description = pd.read_csv('product.csv')\n",
    "coffee_prices = pd.read_csv('coffee_price.csv')\n",
    "tea_prices = pd.read_csv('tea_price.csv')\n",
    "\n",
    "# Preprocessing steps (filtering, merging, encoding) will go here\n",
    "\n",
    "# Further steps including feature engineering, model training, and evaluation\n",
    "# will follow after the preprocessing is completed\n",
    "sales_data"
   ],
   "metadata": {
    "collapsed": false
   }
  },
  {
   "cell_type": "code",
   "execution_count": 32,
   "outputs": [
    {
     "data": {
      "text/plain": "           DATE  PCOFFOTMUSDM\n0    1990-01-01     75.829987\n1    1990-02-01     84.010010\n2    1990-03-01     93.959991\n3    1990-04-01     93.730011\n4    1990-05-01     92.019989\n..          ...           ...\n401  2023-06-01    207.385000\n402  2023-07-01    193.494286\n403  2023-08-01    186.346957\n404  2023-09-01    183.589048\n405  2023-10-01    183.951364\n\n[406 rows x 2 columns]",
      "text/html": "<div>\n<style scoped>\n    .dataframe tbody tr th:only-of-type {\n        vertical-align: middle;\n    }\n\n    .dataframe tbody tr th {\n        vertical-align: top;\n    }\n\n    .dataframe thead th {\n        text-align: right;\n    }\n</style>\n<table border=\"1\" class=\"dataframe\">\n  <thead>\n    <tr style=\"text-align: right;\">\n      <th></th>\n      <th>DATE</th>\n      <th>PCOFFOTMUSDM</th>\n    </tr>\n  </thead>\n  <tbody>\n    <tr>\n      <th>0</th>\n      <td>1990-01-01</td>\n      <td>75.829987</td>\n    </tr>\n    <tr>\n      <th>1</th>\n      <td>1990-02-01</td>\n      <td>84.010010</td>\n    </tr>\n    <tr>\n      <th>2</th>\n      <td>1990-03-01</td>\n      <td>93.959991</td>\n    </tr>\n    <tr>\n      <th>3</th>\n      <td>1990-04-01</td>\n      <td>93.730011</td>\n    </tr>\n    <tr>\n      <th>4</th>\n      <td>1990-05-01</td>\n      <td>92.019989</td>\n    </tr>\n    <tr>\n      <th>...</th>\n      <td>...</td>\n      <td>...</td>\n    </tr>\n    <tr>\n      <th>401</th>\n      <td>2023-06-01</td>\n      <td>207.385000</td>\n    </tr>\n    <tr>\n      <th>402</th>\n      <td>2023-07-01</td>\n      <td>193.494286</td>\n    </tr>\n    <tr>\n      <th>403</th>\n      <td>2023-08-01</td>\n      <td>186.346957</td>\n    </tr>\n    <tr>\n      <th>404</th>\n      <td>2023-09-01</td>\n      <td>183.589048</td>\n    </tr>\n    <tr>\n      <th>405</th>\n      <td>2023-10-01</td>\n      <td>183.951364</td>\n    </tr>\n  </tbody>\n</table>\n<p>406 rows × 2 columns</p>\n</div>"
     },
     "execution_count": 32,
     "metadata": {},
     "output_type": "execute_result"
    }
   ],
   "source": [
    "\n",
    "coffee_prices"
   ],
   "metadata": {
    "collapsed": false
   }
  },
  {
   "cell_type": "code",
   "execution_count": 30,
   "outputs": [
    {
     "data": {
      "text/plain": "           DATE    PTEAUSDM\n0    1990-01-01  252.929993\n1    1990-02-01  211.289993\n2    1990-03-01  192.600006\n3    1990-04-01  194.809998\n4    1990-05-01  187.020004\n..          ...         ...\n401  2023-06-01  264.999257\n402  2023-07-01  273.241209\n403  2023-08-01  307.449354\n404  2023-09-01  326.762683\n405  2023-10-01  324.113203\n\n[406 rows x 2 columns]",
      "text/html": "<div>\n<style scoped>\n    .dataframe tbody tr th:only-of-type {\n        vertical-align: middle;\n    }\n\n    .dataframe tbody tr th {\n        vertical-align: top;\n    }\n\n    .dataframe thead th {\n        text-align: right;\n    }\n</style>\n<table border=\"1\" class=\"dataframe\">\n  <thead>\n    <tr style=\"text-align: right;\">\n      <th></th>\n      <th>DATE</th>\n      <th>PTEAUSDM</th>\n    </tr>\n  </thead>\n  <tbody>\n    <tr>\n      <th>0</th>\n      <td>1990-01-01</td>\n      <td>252.929993</td>\n    </tr>\n    <tr>\n      <th>1</th>\n      <td>1990-02-01</td>\n      <td>211.289993</td>\n    </tr>\n    <tr>\n      <th>2</th>\n      <td>1990-03-01</td>\n      <td>192.600006</td>\n    </tr>\n    <tr>\n      <th>3</th>\n      <td>1990-04-01</td>\n      <td>194.809998</td>\n    </tr>\n    <tr>\n      <th>4</th>\n      <td>1990-05-01</td>\n      <td>187.020004</td>\n    </tr>\n    <tr>\n      <th>...</th>\n      <td>...</td>\n      <td>...</td>\n    </tr>\n    <tr>\n      <th>401</th>\n      <td>2023-06-01</td>\n      <td>264.999257</td>\n    </tr>\n    <tr>\n      <th>402</th>\n      <td>2023-07-01</td>\n      <td>273.241209</td>\n    </tr>\n    <tr>\n      <th>403</th>\n      <td>2023-08-01</td>\n      <td>307.449354</td>\n    </tr>\n    <tr>\n      <th>404</th>\n      <td>2023-09-01</td>\n      <td>326.762683</td>\n    </tr>\n    <tr>\n      <th>405</th>\n      <td>2023-10-01</td>\n      <td>324.113203</td>\n    </tr>\n  </tbody>\n</table>\n<p>406 rows × 2 columns</p>\n</div>"
     },
     "execution_count": 30,
     "metadata": {},
     "output_type": "execute_result"
    }
   ],
   "source": [
    "\n",
    "tea_prices\n"
   ],
   "metadata": {
    "collapsed": false
   }
  },
  {
   "cell_type": "code",
   "execution_count": 20,
   "outputs": [
    {
     "data": {
      "text/plain": "    trans_date  productid_1  productid_2  productid_3  productid_4  \\\n0   2019-04-01            0            0         0.00         0.00   \n1   2019-04-02            0            0         0.00         0.00   \n2   2019-04-03            0            0         0.00         0.00   \n3   2019-04-04            0            0         0.00         0.00   \n4   2019-04-05            0            0         0.00         0.00   \n5   2019-04-06            0            0         0.00         0.00   \n6   2019-04-07           18           36         0.00        61.35   \n7   2019-04-08          198           36        73.75        20.45   \n8   2019-04-09           90           54        44.25        61.35   \n9   2019-04-10           90           72        29.50        20.45   \n10  2019-04-11           72           54         0.00        61.35   \n11  2019-04-12           18           54        59.00        40.90   \n12  2019-04-13          108           18        59.00        61.35   \n13  2019-04-14           54           90        59.00        40.90   \n14  2019-04-15           72           18        44.25       102.25   \n15  2019-04-16           72           72        59.00        20.45   \n16  2019-04-17           54          108        29.50        40.90   \n17  2019-04-18           36          126        29.50        81.80   \n18  2019-04-19           72           36        59.00       102.25   \n19  2019-04-20           72           54        44.25        61.35   \n20  2019-04-21           18           90        29.50        20.45   \n21  2019-04-22           54           36        44.25        40.90   \n22  2019-04-23           36           54        14.75         0.00   \n23  2019-04-24           36           36        29.50        40.90   \n24  2019-04-25           36           54        14.75        40.90   \n25  2019-04-26           36           54        29.50        40.90   \n26  2019-04-27           18           18        29.50         0.00   \n27  2019-04-28            0            0         0.00         0.00   \n28  2019-04-29            0            0         0.00         0.00   \n\n    productid_5  productid_6  productid_7  productid_8  productid_9  ...  \\\n0             0            0         0.00            0          0.0  ...   \n1             0            0         0.00            0          0.0  ...   \n2             0            0         0.00            0          0.0  ...   \n3             0            0         0.00            0          0.0  ...   \n4             0            0         0.00            0          0.0  ...   \n5             0            0         0.00            0          0.0  ...   \n6             0           42        19.75           45        284.0  ...   \n7            75          105        79.00          135         45.0  ...   \n8            45           63        39.50           90         45.0  ...   \n9            45           21        79.00          180         67.5  ...   \n10            0           63        19.75          180         22.5  ...   \n11           15          147        98.75          225         22.5  ...   \n12           45           63        39.50           90         45.0  ...   \n13           60          105        39.50          135        157.5  ...   \n14           15          105        19.75          180        112.5  ...   \n15           90           63        19.75          180         22.5  ...   \n16           15           42        39.50         1620        135.0  ...   \n17           90           84        79.00          135         45.0  ...   \n18           30          168        19.75          270         67.5  ...   \n19           15           84        59.25          225        157.5  ...   \n20           60           84        79.00          180        112.5  ...   \n21           15           42        19.75           90         45.0  ...   \n22           45           21        59.25          135          0.0  ...   \n23           15           42        59.25            0         67.5  ...   \n24           15           63        59.25           45         45.0  ...   \n25           45           21        59.25           45         22.5  ...   \n26           15           42        19.75           90          0.0  ...   \n27            0            0         0.00            0          0.0  ...   \n28            0            0         0.00            0          0.0  ...   \n\n    productid_76  productid_77  productid_78  productid_79  productid_81  \\\n0           73.5            69         99.00         63.75             0   \n1           59.5            66         81.00        105.00             0   \n2           59.5            54         85.50        105.00             0   \n3           77.0            42         63.00         67.50             0   \n4           77.0            63         72.00         75.00             0   \n5           35.0            63         76.50         63.75             0   \n6           84.0            57        103.50         75.00             0   \n7          122.5            66        189.00        116.25            28   \n8           81.4            48        122.65         84.39            84   \n9           91.0            66        117.00         78.75            56   \n10          49.0            57        108.00         56.25           112   \n11          80.5            54         67.50        112.50            28   \n12          91.0            78        139.50        116.25            56   \n13         101.5            78        108.00        142.50           275   \n14          91.0            63         58.50         78.75           168   \n15          42.0            54        117.00        108.75            56   \n16          94.5            69        130.50         75.00           224   \n17          80.5            90        117.00         52.50           140   \n18         115.5            63         94.50         90.00           196   \n19          98.0            99        135.00        105.00            56   \n20          63.0            48         54.00        112.50           275   \n21          66.5            51         90.00         71.25            56   \n22          59.5            54         81.00        105.00            28   \n23          73.5            75        103.50        112.50            84   \n24          56.0            54         94.50         90.00            84   \n25          59.5            72        126.00         90.00            84   \n26          84.0            57         63.00         41.25           112   \n27          84.0            51        108.00         90.00             0   \n28          70.0            84        126.00         90.00             0   \n\n    productid_82  productid_83  productid_84  productid_87  \\\n0              0             0           0.0          78.0   \n1              0             0           0.0         126.0   \n2              0             0           0.0         102.0   \n3              0             0           0.0         117.0   \n4              0             0           0.0          96.0   \n5              0             0           0.0          93.0   \n6              0             0          19.2           0.0   \n7             12            70          11.2          30.0   \n8            144           140           0.0          42.0   \n9             72            42          39.2          66.0   \n10            60            98          44.0          15.0   \n11            12            28          53.6          57.0   \n12             0            28          52.8          90.0   \n13           119           116          51.2          66.0   \n14            48            98          40.0         112.2   \n15            48           140          34.4         118.2   \n16            84           126          38.4         105.9   \n17           108           112          62.4         118.2   \n18            24           140          46.4         136.8   \n19            48            70          48.8         133.5   \n20            83            88          41.6         188.1   \n21            24            14          12.8         140.7   \n22             0            28          20.0         130.8   \n23             0            28          18.4         148.5   \n24             0            14          16.8         142.5   \n25             0            56          19.2         137.4   \n26            36            14          31.2         169.2   \n27             0             0           0.0         144.3   \n28             0             0           0.0         109.8   \n\n    total_amount_of_the_day  \n0                   7462.00  \n1                   7269.10  \n2                   7461.25  \n3                   7086.45  \n4                   7236.25  \n5                   6513.75  \n6                   7693.73  \n7                   8837.54  \n8                   8355.48  \n9                   8210.48  \n10                  7783.74  \n11                  7690.53  \n12                  8700.76  \n13                  8210.86  \n14                  8660.64  \n15                  8588.29  \n16                  9829.30  \n17                  8687.03  \n18                  8944.14  \n19                  8132.81  \n20                  8360.96  \n21                  8211.76  \n22                  8217.49  \n23                  8819.70  \n24                  8340.85  \n25                  8396.43  \n26                  8744.08  \n27                  6748.15  \n28                  6442.40  \n\n[29 rows x 82 columns]",
      "text/html": "<div>\n<style scoped>\n    .dataframe tbody tr th:only-of-type {\n        vertical-align: middle;\n    }\n\n    .dataframe tbody tr th {\n        vertical-align: top;\n    }\n\n    .dataframe thead th {\n        text-align: right;\n    }\n</style>\n<table border=\"1\" class=\"dataframe\">\n  <thead>\n    <tr style=\"text-align: right;\">\n      <th></th>\n      <th>trans_date</th>\n      <th>productid_1</th>\n      <th>productid_2</th>\n      <th>productid_3</th>\n      <th>productid_4</th>\n      <th>productid_5</th>\n      <th>productid_6</th>\n      <th>productid_7</th>\n      <th>productid_8</th>\n      <th>productid_9</th>\n      <th>...</th>\n      <th>productid_76</th>\n      <th>productid_77</th>\n      <th>productid_78</th>\n      <th>productid_79</th>\n      <th>productid_81</th>\n      <th>productid_82</th>\n      <th>productid_83</th>\n      <th>productid_84</th>\n      <th>productid_87</th>\n      <th>total_amount_of_the_day</th>\n    </tr>\n  </thead>\n  <tbody>\n    <tr>\n      <th>0</th>\n      <td>2019-04-01</td>\n      <td>0</td>\n      <td>0</td>\n      <td>0.00</td>\n      <td>0.00</td>\n      <td>0</td>\n      <td>0</td>\n      <td>0.00</td>\n      <td>0</td>\n      <td>0.0</td>\n      <td>...</td>\n      <td>73.5</td>\n      <td>69</td>\n      <td>99.00</td>\n      <td>63.75</td>\n      <td>0</td>\n      <td>0</td>\n      <td>0</td>\n      <td>0.0</td>\n      <td>78.0</td>\n      <td>7462.00</td>\n    </tr>\n    <tr>\n      <th>1</th>\n      <td>2019-04-02</td>\n      <td>0</td>\n      <td>0</td>\n      <td>0.00</td>\n      <td>0.00</td>\n      <td>0</td>\n      <td>0</td>\n      <td>0.00</td>\n      <td>0</td>\n      <td>0.0</td>\n      <td>...</td>\n      <td>59.5</td>\n      <td>66</td>\n      <td>81.00</td>\n      <td>105.00</td>\n      <td>0</td>\n      <td>0</td>\n      <td>0</td>\n      <td>0.0</td>\n      <td>126.0</td>\n      <td>7269.10</td>\n    </tr>\n    <tr>\n      <th>2</th>\n      <td>2019-04-03</td>\n      <td>0</td>\n      <td>0</td>\n      <td>0.00</td>\n      <td>0.00</td>\n      <td>0</td>\n      <td>0</td>\n      <td>0.00</td>\n      <td>0</td>\n      <td>0.0</td>\n      <td>...</td>\n      <td>59.5</td>\n      <td>54</td>\n      <td>85.50</td>\n      <td>105.00</td>\n      <td>0</td>\n      <td>0</td>\n      <td>0</td>\n      <td>0.0</td>\n      <td>102.0</td>\n      <td>7461.25</td>\n    </tr>\n    <tr>\n      <th>3</th>\n      <td>2019-04-04</td>\n      <td>0</td>\n      <td>0</td>\n      <td>0.00</td>\n      <td>0.00</td>\n      <td>0</td>\n      <td>0</td>\n      <td>0.00</td>\n      <td>0</td>\n      <td>0.0</td>\n      <td>...</td>\n      <td>77.0</td>\n      <td>42</td>\n      <td>63.00</td>\n      <td>67.50</td>\n      <td>0</td>\n      <td>0</td>\n      <td>0</td>\n      <td>0.0</td>\n      <td>117.0</td>\n      <td>7086.45</td>\n    </tr>\n    <tr>\n      <th>4</th>\n      <td>2019-04-05</td>\n      <td>0</td>\n      <td>0</td>\n      <td>0.00</td>\n      <td>0.00</td>\n      <td>0</td>\n      <td>0</td>\n      <td>0.00</td>\n      <td>0</td>\n      <td>0.0</td>\n      <td>...</td>\n      <td>77.0</td>\n      <td>63</td>\n      <td>72.00</td>\n      <td>75.00</td>\n      <td>0</td>\n      <td>0</td>\n      <td>0</td>\n      <td>0.0</td>\n      <td>96.0</td>\n      <td>7236.25</td>\n    </tr>\n    <tr>\n      <th>5</th>\n      <td>2019-04-06</td>\n      <td>0</td>\n      <td>0</td>\n      <td>0.00</td>\n      <td>0.00</td>\n      <td>0</td>\n      <td>0</td>\n      <td>0.00</td>\n      <td>0</td>\n      <td>0.0</td>\n      <td>...</td>\n      <td>35.0</td>\n      <td>63</td>\n      <td>76.50</td>\n      <td>63.75</td>\n      <td>0</td>\n      <td>0</td>\n      <td>0</td>\n      <td>0.0</td>\n      <td>93.0</td>\n      <td>6513.75</td>\n    </tr>\n    <tr>\n      <th>6</th>\n      <td>2019-04-07</td>\n      <td>18</td>\n      <td>36</td>\n      <td>0.00</td>\n      <td>61.35</td>\n      <td>0</td>\n      <td>42</td>\n      <td>19.75</td>\n      <td>45</td>\n      <td>284.0</td>\n      <td>...</td>\n      <td>84.0</td>\n      <td>57</td>\n      <td>103.50</td>\n      <td>75.00</td>\n      <td>0</td>\n      <td>0</td>\n      <td>0</td>\n      <td>19.2</td>\n      <td>0.0</td>\n      <td>7693.73</td>\n    </tr>\n    <tr>\n      <th>7</th>\n      <td>2019-04-08</td>\n      <td>198</td>\n      <td>36</td>\n      <td>73.75</td>\n      <td>20.45</td>\n      <td>75</td>\n      <td>105</td>\n      <td>79.00</td>\n      <td>135</td>\n      <td>45.0</td>\n      <td>...</td>\n      <td>122.5</td>\n      <td>66</td>\n      <td>189.00</td>\n      <td>116.25</td>\n      <td>28</td>\n      <td>12</td>\n      <td>70</td>\n      <td>11.2</td>\n      <td>30.0</td>\n      <td>8837.54</td>\n    </tr>\n    <tr>\n      <th>8</th>\n      <td>2019-04-09</td>\n      <td>90</td>\n      <td>54</td>\n      <td>44.25</td>\n      <td>61.35</td>\n      <td>45</td>\n      <td>63</td>\n      <td>39.50</td>\n      <td>90</td>\n      <td>45.0</td>\n      <td>...</td>\n      <td>81.4</td>\n      <td>48</td>\n      <td>122.65</td>\n      <td>84.39</td>\n      <td>84</td>\n      <td>144</td>\n      <td>140</td>\n      <td>0.0</td>\n      <td>42.0</td>\n      <td>8355.48</td>\n    </tr>\n    <tr>\n      <th>9</th>\n      <td>2019-04-10</td>\n      <td>90</td>\n      <td>72</td>\n      <td>29.50</td>\n      <td>20.45</td>\n      <td>45</td>\n      <td>21</td>\n      <td>79.00</td>\n      <td>180</td>\n      <td>67.5</td>\n      <td>...</td>\n      <td>91.0</td>\n      <td>66</td>\n      <td>117.00</td>\n      <td>78.75</td>\n      <td>56</td>\n      <td>72</td>\n      <td>42</td>\n      <td>39.2</td>\n      <td>66.0</td>\n      <td>8210.48</td>\n    </tr>\n    <tr>\n      <th>10</th>\n      <td>2019-04-11</td>\n      <td>72</td>\n      <td>54</td>\n      <td>0.00</td>\n      <td>61.35</td>\n      <td>0</td>\n      <td>63</td>\n      <td>19.75</td>\n      <td>180</td>\n      <td>22.5</td>\n      <td>...</td>\n      <td>49.0</td>\n      <td>57</td>\n      <td>108.00</td>\n      <td>56.25</td>\n      <td>112</td>\n      <td>60</td>\n      <td>98</td>\n      <td>44.0</td>\n      <td>15.0</td>\n      <td>7783.74</td>\n    </tr>\n    <tr>\n      <th>11</th>\n      <td>2019-04-12</td>\n      <td>18</td>\n      <td>54</td>\n      <td>59.00</td>\n      <td>40.90</td>\n      <td>15</td>\n      <td>147</td>\n      <td>98.75</td>\n      <td>225</td>\n      <td>22.5</td>\n      <td>...</td>\n      <td>80.5</td>\n      <td>54</td>\n      <td>67.50</td>\n      <td>112.50</td>\n      <td>28</td>\n      <td>12</td>\n      <td>28</td>\n      <td>53.6</td>\n      <td>57.0</td>\n      <td>7690.53</td>\n    </tr>\n    <tr>\n      <th>12</th>\n      <td>2019-04-13</td>\n      <td>108</td>\n      <td>18</td>\n      <td>59.00</td>\n      <td>61.35</td>\n      <td>45</td>\n      <td>63</td>\n      <td>39.50</td>\n      <td>90</td>\n      <td>45.0</td>\n      <td>...</td>\n      <td>91.0</td>\n      <td>78</td>\n      <td>139.50</td>\n      <td>116.25</td>\n      <td>56</td>\n      <td>0</td>\n      <td>28</td>\n      <td>52.8</td>\n      <td>90.0</td>\n      <td>8700.76</td>\n    </tr>\n    <tr>\n      <th>13</th>\n      <td>2019-04-14</td>\n      <td>54</td>\n      <td>90</td>\n      <td>59.00</td>\n      <td>40.90</td>\n      <td>60</td>\n      <td>105</td>\n      <td>39.50</td>\n      <td>135</td>\n      <td>157.5</td>\n      <td>...</td>\n      <td>101.5</td>\n      <td>78</td>\n      <td>108.00</td>\n      <td>142.50</td>\n      <td>275</td>\n      <td>119</td>\n      <td>116</td>\n      <td>51.2</td>\n      <td>66.0</td>\n      <td>8210.86</td>\n    </tr>\n    <tr>\n      <th>14</th>\n      <td>2019-04-15</td>\n      <td>72</td>\n      <td>18</td>\n      <td>44.25</td>\n      <td>102.25</td>\n      <td>15</td>\n      <td>105</td>\n      <td>19.75</td>\n      <td>180</td>\n      <td>112.5</td>\n      <td>...</td>\n      <td>91.0</td>\n      <td>63</td>\n      <td>58.50</td>\n      <td>78.75</td>\n      <td>168</td>\n      <td>48</td>\n      <td>98</td>\n      <td>40.0</td>\n      <td>112.2</td>\n      <td>8660.64</td>\n    </tr>\n    <tr>\n      <th>15</th>\n      <td>2019-04-16</td>\n      <td>72</td>\n      <td>72</td>\n      <td>59.00</td>\n      <td>20.45</td>\n      <td>90</td>\n      <td>63</td>\n      <td>19.75</td>\n      <td>180</td>\n      <td>22.5</td>\n      <td>...</td>\n      <td>42.0</td>\n      <td>54</td>\n      <td>117.00</td>\n      <td>108.75</td>\n      <td>56</td>\n      <td>48</td>\n      <td>140</td>\n      <td>34.4</td>\n      <td>118.2</td>\n      <td>8588.29</td>\n    </tr>\n    <tr>\n      <th>16</th>\n      <td>2019-04-17</td>\n      <td>54</td>\n      <td>108</td>\n      <td>29.50</td>\n      <td>40.90</td>\n      <td>15</td>\n      <td>42</td>\n      <td>39.50</td>\n      <td>1620</td>\n      <td>135.0</td>\n      <td>...</td>\n      <td>94.5</td>\n      <td>69</td>\n      <td>130.50</td>\n      <td>75.00</td>\n      <td>224</td>\n      <td>84</td>\n      <td>126</td>\n      <td>38.4</td>\n      <td>105.9</td>\n      <td>9829.30</td>\n    </tr>\n    <tr>\n      <th>17</th>\n      <td>2019-04-18</td>\n      <td>36</td>\n      <td>126</td>\n      <td>29.50</td>\n      <td>81.80</td>\n      <td>90</td>\n      <td>84</td>\n      <td>79.00</td>\n      <td>135</td>\n      <td>45.0</td>\n      <td>...</td>\n      <td>80.5</td>\n      <td>90</td>\n      <td>117.00</td>\n      <td>52.50</td>\n      <td>140</td>\n      <td>108</td>\n      <td>112</td>\n      <td>62.4</td>\n      <td>118.2</td>\n      <td>8687.03</td>\n    </tr>\n    <tr>\n      <th>18</th>\n      <td>2019-04-19</td>\n      <td>72</td>\n      <td>36</td>\n      <td>59.00</td>\n      <td>102.25</td>\n      <td>30</td>\n      <td>168</td>\n      <td>19.75</td>\n      <td>270</td>\n      <td>67.5</td>\n      <td>...</td>\n      <td>115.5</td>\n      <td>63</td>\n      <td>94.50</td>\n      <td>90.00</td>\n      <td>196</td>\n      <td>24</td>\n      <td>140</td>\n      <td>46.4</td>\n      <td>136.8</td>\n      <td>8944.14</td>\n    </tr>\n    <tr>\n      <th>19</th>\n      <td>2019-04-20</td>\n      <td>72</td>\n      <td>54</td>\n      <td>44.25</td>\n      <td>61.35</td>\n      <td>15</td>\n      <td>84</td>\n      <td>59.25</td>\n      <td>225</td>\n      <td>157.5</td>\n      <td>...</td>\n      <td>98.0</td>\n      <td>99</td>\n      <td>135.00</td>\n      <td>105.00</td>\n      <td>56</td>\n      <td>48</td>\n      <td>70</td>\n      <td>48.8</td>\n      <td>133.5</td>\n      <td>8132.81</td>\n    </tr>\n    <tr>\n      <th>20</th>\n      <td>2019-04-21</td>\n      <td>18</td>\n      <td>90</td>\n      <td>29.50</td>\n      <td>20.45</td>\n      <td>60</td>\n      <td>84</td>\n      <td>79.00</td>\n      <td>180</td>\n      <td>112.5</td>\n      <td>...</td>\n      <td>63.0</td>\n      <td>48</td>\n      <td>54.00</td>\n      <td>112.50</td>\n      <td>275</td>\n      <td>83</td>\n      <td>88</td>\n      <td>41.6</td>\n      <td>188.1</td>\n      <td>8360.96</td>\n    </tr>\n    <tr>\n      <th>21</th>\n      <td>2019-04-22</td>\n      <td>54</td>\n      <td>36</td>\n      <td>44.25</td>\n      <td>40.90</td>\n      <td>15</td>\n      <td>42</td>\n      <td>19.75</td>\n      <td>90</td>\n      <td>45.0</td>\n      <td>...</td>\n      <td>66.5</td>\n      <td>51</td>\n      <td>90.00</td>\n      <td>71.25</td>\n      <td>56</td>\n      <td>24</td>\n      <td>14</td>\n      <td>12.8</td>\n      <td>140.7</td>\n      <td>8211.76</td>\n    </tr>\n    <tr>\n      <th>22</th>\n      <td>2019-04-23</td>\n      <td>36</td>\n      <td>54</td>\n      <td>14.75</td>\n      <td>0.00</td>\n      <td>45</td>\n      <td>21</td>\n      <td>59.25</td>\n      <td>135</td>\n      <td>0.0</td>\n      <td>...</td>\n      <td>59.5</td>\n      <td>54</td>\n      <td>81.00</td>\n      <td>105.00</td>\n      <td>28</td>\n      <td>0</td>\n      <td>28</td>\n      <td>20.0</td>\n      <td>130.8</td>\n      <td>8217.49</td>\n    </tr>\n    <tr>\n      <th>23</th>\n      <td>2019-04-24</td>\n      <td>36</td>\n      <td>36</td>\n      <td>29.50</td>\n      <td>40.90</td>\n      <td>15</td>\n      <td>42</td>\n      <td>59.25</td>\n      <td>0</td>\n      <td>67.5</td>\n      <td>...</td>\n      <td>73.5</td>\n      <td>75</td>\n      <td>103.50</td>\n      <td>112.50</td>\n      <td>84</td>\n      <td>0</td>\n      <td>28</td>\n      <td>18.4</td>\n      <td>148.5</td>\n      <td>8819.70</td>\n    </tr>\n    <tr>\n      <th>24</th>\n      <td>2019-04-25</td>\n      <td>36</td>\n      <td>54</td>\n      <td>14.75</td>\n      <td>40.90</td>\n      <td>15</td>\n      <td>63</td>\n      <td>59.25</td>\n      <td>45</td>\n      <td>45.0</td>\n      <td>...</td>\n      <td>56.0</td>\n      <td>54</td>\n      <td>94.50</td>\n      <td>90.00</td>\n      <td>84</td>\n      <td>0</td>\n      <td>14</td>\n      <td>16.8</td>\n      <td>142.5</td>\n      <td>8340.85</td>\n    </tr>\n    <tr>\n      <th>25</th>\n      <td>2019-04-26</td>\n      <td>36</td>\n      <td>54</td>\n      <td>29.50</td>\n      <td>40.90</td>\n      <td>45</td>\n      <td>21</td>\n      <td>59.25</td>\n      <td>45</td>\n      <td>22.5</td>\n      <td>...</td>\n      <td>59.5</td>\n      <td>72</td>\n      <td>126.00</td>\n      <td>90.00</td>\n      <td>84</td>\n      <td>0</td>\n      <td>56</td>\n      <td>19.2</td>\n      <td>137.4</td>\n      <td>8396.43</td>\n    </tr>\n    <tr>\n      <th>26</th>\n      <td>2019-04-27</td>\n      <td>18</td>\n      <td>18</td>\n      <td>29.50</td>\n      <td>0.00</td>\n      <td>15</td>\n      <td>42</td>\n      <td>19.75</td>\n      <td>90</td>\n      <td>0.0</td>\n      <td>...</td>\n      <td>84.0</td>\n      <td>57</td>\n      <td>63.00</td>\n      <td>41.25</td>\n      <td>112</td>\n      <td>36</td>\n      <td>14</td>\n      <td>31.2</td>\n      <td>169.2</td>\n      <td>8744.08</td>\n    </tr>\n    <tr>\n      <th>27</th>\n      <td>2019-04-28</td>\n      <td>0</td>\n      <td>0</td>\n      <td>0.00</td>\n      <td>0.00</td>\n      <td>0</td>\n      <td>0</td>\n      <td>0.00</td>\n      <td>0</td>\n      <td>0.0</td>\n      <td>...</td>\n      <td>84.0</td>\n      <td>51</td>\n      <td>108.00</td>\n      <td>90.00</td>\n      <td>0</td>\n      <td>0</td>\n      <td>0</td>\n      <td>0.0</td>\n      <td>144.3</td>\n      <td>6748.15</td>\n    </tr>\n    <tr>\n      <th>28</th>\n      <td>2019-04-29</td>\n      <td>0</td>\n      <td>0</td>\n      <td>0.00</td>\n      <td>0.00</td>\n      <td>0</td>\n      <td>0</td>\n      <td>0.00</td>\n      <td>0</td>\n      <td>0.0</td>\n      <td>...</td>\n      <td>70.0</td>\n      <td>84</td>\n      <td>126.00</td>\n      <td>90.00</td>\n      <td>0</td>\n      <td>0</td>\n      <td>0</td>\n      <td>0.0</td>\n      <td>109.8</td>\n      <td>6442.40</td>\n    </tr>\n  </tbody>\n</table>\n<p>29 rows × 82 columns</p>\n</div>"
     },
     "execution_count": 20,
     "metadata": {},
     "output_type": "execute_result"
    }
   ],
   "source": [
    "# Sum the line_item_amount for each product for each day\n",
    "grouped_sales = sales_data.groupby(['transaction_date', 'product_id'])['line_item_amount'].sum().reset_index()\n",
    "\n",
    "# Pivot the table to have product_ids as columns\n",
    "pivot_sales = grouped_sales.pivot_table(index='transaction_date', columns='product_id', values='line_item_amount', fill_value=0)\n",
    "\n",
    "# Reset index to make it a flat DataFrame\n",
    "pivot_sales.reset_index(inplace=True)\n",
    "\n",
    "# Rename columns for readability\n",
    "pivot_sales.columns = ['trans_date'] + ['productid_' + str(i) for i in pivot_sales.columns[1:]]\n",
    "\n",
    "# Add a total amount column\n",
    "pivot_sales['total_amount_of_the_day'] = pivot_sales.iloc[:, 1:].sum(axis=1)\n",
    "\n",
    "# Display the result\n",
    "pivot_sales"
   ],
   "metadata": {
    "collapsed": false
   }
  },
  {
   "cell_type": "markdown",
   "source": [
    "### Model training"
   ],
   "metadata": {
    "collapsed": false
   }
  },
  {
   "cell_type": "code",
   "execution_count": 36,
   "outputs": [
    {
     "name": "stdout",
     "output_type": "stream",
     "text": [
      "Training Data R^2 Scores: {1: 0.06963843214055143, 2: 0.04151262674779088, 3: 0.07173199223457749, 4: 0.033086750497509754, 5: -0.26151189092496674, 6: 0.02308240395222716, 7: -0.04313978560142151, 8: -0.06889019069162639, 9: 0.0037650362507578583, 10: 0.05066019540001021, 11: -0.08799740256821664, 12: 0.025331868023616755, 13: 0.08422466013349994, 14: 0.07849674185170818, 15: 0.06410805211618698, 16: 0.10953401536659413, 17: 0.08564103595569883, 18: 0.06418904237536804, 19: 0.14713120704897098, 20: 0.15323304600766574, 21: 0.05370957020909528, 22: 0.09073656927248885, 23: 0.02419281728227174, 24: -0.016293849011776107, 25: -0.1317889578712912, 26: 0.04836012218123953, 27: 0.030039732344083414, 28: -0.23338961622111887, 29: -0.0003577333416384665, 30: -0.18849466505454315, 31: 0.034400078390681155, 32: -0.006550495227611197, 33: 0.013478648508276625, 34: -0.0048404776227257695, 35: 0.037964990280550226, 36: 0.023106296654815894, 37: 0.03636301159224542, 38: 0.015083036240851722, 39: 0.018211970792777366, 40: -0.014318113658778442, 41: 0.023022660291625807, 42: -0.005466208328434918, 43: -0.05875853646863316, 44: 0.009971847736271355, 45: -0.027492615922871444, 46: -0.10722987423208852, 47: 0.0625003739191009, 48: 0.056965235507655976, 49: 0.03083973767977166, 50: 0.0288570875288795, 51: 0.027243385343358018, 52: -0.014028956508183477, 53: 0.04779857550900346, 54: 0.04197099620374034, 55: 0.04183434060702318, 56: 0.01703652530374611, 57: 0.007628178111203532, 58: 0.023405230998366555, 59: 0.04107950960857343, 60: 0.01914018965249553, 61: -0.07924864567706003, 63: 0.09890098784965695, 64: 0.09405064152943632, 65: 0.19006126543762702, 69: 0.07201107404090024, 70: 0.08347117661646519, 71: 0.01614407704904597, 72: -0.13727350906704494, 73: 0.0867823727670427, 74: 0.05497715868770514, 75: 0.15462311065522083, 76: 0.052611870146005435, 77: -0.23443980528496988, 78: 0.05747634470977314}\n",
      "Test Data R^2 Scores: {1: -0.3943271807185711, 2: -1.558635681981439, 3: -0.370131238351042, 4: -1.105009736776338, 5: -0.4290198787763553, 6: 0.009570394299077689, 7: -0.7914279088735046, 8: -0.604484954431173, 9: -0.38075714692207785, 10: -0.015233756483175043, 11: -0.11506985734886688, 12: 0.06374233192889911, 13: -0.10673563511973372, 14: 0.0, 15: -2.329202959800118, 16: -0.18209281503197472, 17: -1.5138869347792117, 18: -0.48084473307279185, 19: -2.4753663489259163, 20: -0.5394181517729986, 21: -0.2528508242708718, 22: -0.6392766138975274, 23: 0.0160358846207872, 24: -0.6617265701403927, 25: -0.3023124349158173, 26: -0.10148757223304439, 27: -2.5544152253753185, 28: -2.495693900900382, 29: -3.2574086475833886, 30: -0.25974177165592716, 31: -1.14908925428267, 32: -1.1363112637234742, 33: -0.016281870849720326, 34: -0.07522504131827867, 35: -3.2118967064928645, 36: -8.859821196269337, 37: -0.03994625520592243, 38: -0.7586433747600863, 39: -2.7324737612577668, 40: -0.5495667386990539, 41: -0.09723939270012716, 42: -0.47503163080845767, 43: -3.4992127165793, 44: -0.5272099358493949, 45: -0.03459181597794392, 46: -0.735866610351716, 47: -0.025313748433743344, 48: -0.4694202072422835, 49: -3.5355866639148026, 50: -0.8278265424228997, 51: -0.1910231402712499, 52: -0.036219982913773485, 53: -202.54163188529546, 54: -0.08411274223150111, 55: 0.015033360584004063, 56: 0.0061848663841814755, 57: -0.3326676543993008, 58: -0.1661374426034281, 59: -12.58363886616692, 60: -1.3240325881756339, 61: -9.081176264982425, 63: -0.845687804229635, 64: 0.04851968974934817, 65: 0.2523603194281909, 69: -16.3263810429381, 70: -44.66377018577391, 71: -0.03360713098800061, 72: -1.2962093697475257, 73: 0.033715219128765406, 74: -0.7032051838023943, 75: -1.293334579788954, 76: 0.004701512720123313, 77: -8.060298754478424, 78: -0.027385499091194365}\n"
     ]
    }
   ],
   "source": [
    "\n",
    "\n",
    "# Load the data\n",
    "data = pivot_sales\n",
    "\n",
    "# Define the number of shift days for creating lag features\n",
    "shift_days = 14\n",
    "\n",
    "# Prepare the dataset for modeling\n",
    "def prepare_dataset(data, target_column):\n",
    "    for i in range(1, shift_days + 1):\n",
    "        data[f'{target_column}_shifted_{i}'] = data[target_column].shift(i)\n",
    "    data.dropna(inplace=True)\n",
    "    return data\n",
    "\n",
    "# Train and evaluate SVR models for each product ID\n",
    "r2_scores_train = {}\n",
    "r2_scores_test = {}\n",
    "\n",
    "for product_id in range(1, 79):\n",
    "    product_column = f'productid_{product_id}'\n",
    "\n",
    "    if product_column in data.columns:\n",
    "        # Prepare the dataset\n",
    "        product_data = prepare_dataset(data.copy(), product_column)\n",
    "\n",
    "        # Split the data\n",
    "        X = product_data[[f'{product_column}_shifted_{i}' for i in range(1, shift_days + 1)]]\n",
    "        y = product_data[product_column]\n",
    "        X_train, X_test, y_train, y_test = train_test_split(X, y, test_size=0.2, random_state=42)\n",
    "\n",
    "        # Train the model\n",
    "        svr_model = SVR()\n",
    "        svr_model.fit(X_train, y_train)\n",
    "\n",
    "        # Predict and calculate R^2 score\n",
    "        y_train_pred = svr_model.predict(X_train)\n",
    "        r2_train = r2_score(y_train, y_train_pred)\n",
    "\n",
    "        y_test_pred = svr_model.predict(X_test)\n",
    "        r2_test = r2_score(y_test, y_test_pred)\n",
    "\n",
    "        # Store the R^2 scores\n",
    "        r2_scores_train[product_id] = r2_train\n",
    "        r2_scores_test[product_id] = r2_test\n",
    "\n",
    "        # Save the model\n",
    "        joblib.dump(svr_model, f'svr_model_productid_{product_id}.joblib')\n",
    "\n",
    "# Print R^2 scores for train and test data\n",
    "print(\"Training Data R^2 Scores:\", r2_scores_train)\n",
    "print(\"Test Data R^2 Scores:\", r2_scores_test)\n",
    "\n",
    "\n"
   ],
   "metadata": {
    "collapsed": false
   }
  },
  {
   "cell_type": "code",
   "execution_count": 37,
   "outputs": [
    {
     "data": {
      "text/plain": "(-0.0032771265292046436, -1.363246486126339)"
     },
     "execution_count": 37,
     "metadata": {},
     "output_type": "execute_result"
    }
   ],
   "source": [
    "\n",
    "\n",
    "# Define the number of shift days for creating lag features\n",
    "shift_days = 14\n",
    "\n",
    "# Prepare the dataset for modeling\n",
    "def prepare_dataset(data, target_column):\n",
    "    for i in range(1, shift_days + 1):\n",
    "        data[f'{target_column}_shifted_{i}'] = data[target_column].shift(i)\n",
    "    data.dropna(inplace=True)\n",
    "    return data\n",
    "\n",
    "# Prepare the dataset for the total sales\n",
    "total_sales_data = prepare_dataset(data.copy(), 'total_amount_of_the_day')\n",
    "\n",
    "# Split the data\n",
    "X = total_sales_data[[f'total_amount_of_the_day_shifted_{i}' for i in range(1, shift_days + 1)]]\n",
    "y = total_sales_data['total_amount_of_the_day']\n",
    "X_train, X_test, y_train, y_test = train_test_split(X, y, test_size=0.1, random_state=42)\n",
    "\n",
    "# Train the model\n",
    "svr_model_total_sales = SVR()\n",
    "svr_model_total_sales.fit(X_train, y_train)\n",
    "\n",
    "# Predict and calculate R^2 score\n",
    "y_train_pred = svr_model_total_sales.predict(X_train)\n",
    "r2_train = r2_score(y_train, y_train_pred)\n",
    "\n",
    "y_test_pred = svr_model_total_sales.predict(X_test)\n",
    "r2_test = r2_score(y_test, y_test_pred)\n",
    "\n",
    "# Save the model\n",
    "joblib.dump(svr_model_total_sales, 'svr_model_total_sales.joblib')\n",
    "\n",
    "# Print R^2 scores for train and test data\n",
    "r2_train, r2_test\n",
    "\n"
   ],
   "metadata": {
    "collapsed": false
   }
  },
  {
   "cell_type": "code",
   "execution_count": 35,
   "outputs": [
    {
     "name": "stdout",
     "output_type": "stream",
     "text": [
      "Predicted Coffee Price for May 2019: 173.57628582026246\n",
      "Predicted Tea Price for May 2019: 323.19653232269775\n"
     ]
    }
   ],
   "source": [
    "# Prepare the data and train a linear regression model\n",
    "def train_linear_regression(data, column_name):\n",
    "    # Convert 'DATE' to datetime and extract the year and month as separate columns\n",
    "    data['DATE'] = pd.to_datetime(data['DATE'])\n",
    "    data['Year'] = data['DATE'].dt.year\n",
    "    data['Month'] = data['DATE'].dt.month\n",
    "\n",
    "    # Prepare the features (X) and target (y)\n",
    "    X = data[['Year', 'Month']]\n",
    "    y = data[column_name]\n",
    "\n",
    "    # Create and train the linear regression model\n",
    "    model = LinearRegression()\n",
    "    model.fit(X, y)\n",
    "\n",
    "    return model\n",
    "\n",
    "# Load the coffee and tea price data\n",
    "coffee_price_data = pd.read_csv('coffee_price.csv')\n",
    "tea_price_data = pd.read_csv('tea_price.csv')\n",
    "\n",
    "# Train the models for coffee and tea\n",
    "coffee_model = train_linear_regression(coffee_price_data, 'PCOFFOTMUSDM')\n",
    "tea_model = train_linear_regression(tea_price_data, 'PTEAUSDM')\n",
    "\n",
    "# Save the models\n",
    "joblib.dump(coffee_model, 'coffee_model.joblib')\n",
    "joblib.dump(tea_model, 'tea_model.joblib')\n",
    "\n",
    "# Prepare the data for May 2019 prediction\n",
    "predict_date = pd.DataFrame({'Year': [2019], 'Month': [5]})\n",
    "\n",
    "# Make predictions for May 2019\n",
    "predicted_coffee_price = coffee_model.predict(predict_date)\n",
    "predicted_tea_price = tea_model.predict(predict_date)\n",
    "\n",
    "print(\"Predicted Coffee Price for May 2019:\", predicted_coffee_price[0])\n",
    "print(\"Predicted Tea Price for May 2019:\", predicted_tea_price[0])\n"
   ],
   "metadata": {
    "collapsed": false
   }
  }
 ],
 "metadata": {
  "kernelspec": {
   "display_name": "Python 3",
   "language": "python",
   "name": "python3"
  },
  "language_info": {
   "codemirror_mode": {
    "name": "ipython",
    "version": 2
   },
   "file_extension": ".py",
   "mimetype": "text/x-python",
   "name": "python",
   "nbconvert_exporter": "python",
   "pygments_lexer": "ipython2",
   "version": "2.7.6"
  }
 },
 "nbformat": 4,
 "nbformat_minor": 0
}
